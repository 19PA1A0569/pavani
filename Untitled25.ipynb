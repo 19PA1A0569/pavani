{
  "nbformat": 4,
  "nbformat_minor": 0,
  "metadata": {
    "colab": {
      "name": "Untitled25.ipynb",
      "provenance": [],
      "authorship_tag": "ABX9TyMtqR556pJQrBlWHIw7CgmP",
      "include_colab_link": true
    },
    "kernelspec": {
      "name": "python3",
      "display_name": "Python 3"
    }
  },
  "cells": [
    {
      "cell_type": "markdown",
      "metadata": {
        "id": "view-in-github",
        "colab_type": "text"
      },
      "source": [
        "<a href=\"https://colab.research.google.com/github/19PA1A0569/pavani/blob/master/Untitled25.ipynb\" target=\"_parent\"><img src=\"https://colab.research.google.com/assets/colab-badge.svg\" alt=\"Open In Colab\"/></a>"
      ]
    },
    {
      "cell_type": "code",
      "metadata": {
        "id": "MRvCGw0nNGMd",
        "outputId": "9a1ce3fa-6796-4153-b2ee-ad7ae28eac47",
        "colab": {
          "base_uri": "https://localhost:8080/",
          "height": 476
        }
      },
      "source": [
        "import random\n",
        "from datetime import datetime\n",
        "def greet_and_introduce(name):\n",
        "    responses=[\n",
        "               \"I can help you in getting a perfect outfit for your occassion!\",\"Are you looking for an outfit? Then you must try these!\"]\n",
        "    print(\"✨✨✨✨Hi \"+name+ \", nice to meet you. \" + random.choice(responses))\n",
        "def get_timeofday_greeting():\n",
        "    current_time=datetime.now()\n",
        "    if current_time.hour>1 and current_time.hour<=12:\n",
        "        timeofday_greeting=\"Good Morning, \"\n",
        "    elif current_time.hour>12 and current_time.hour<17:\n",
        "        timeofday_greeting=\"Good Afternoon, \"\n",
        "    elif current_time.hour>=17 and current_time.hour<22:\n",
        "         timeofday_greeting=\"Good Evening, \"\n",
        "    print(timeofday_greeting,end =\" \")\n",
        "    intro = [\"Iam Elsa, May I know your name⬛⬛⬛⬛⬛⬛⬛⬛⬛⬛⬛⬛\", \"This is Quinn, May I know your name⬛⬛⬛⬛⬛⬛⬛⬛⬛⬛⬛\"]\n",
        "    print(random.choice(intro))\n",
        "    name = input(\"Your Name: \")\n",
        "    greet_and_introduce(name)\n",
        "def gender():\n",
        "    print()\n",
        "    print(\"1.Male\")\n",
        "    print(\"2.Female\")\n",
        "    x = int(input(\"Your Gender? (1 or 2) :\"))\n",
        "    if x==1:\n",
        "        print(\"\\nHere is the link, Awesome Men Collection Available Here!!\")\n",
        "    else:\n",
        "        print(\"\\nHere is the link, Gorgeous Women Collection Available Here!!\")\n",
        "    return x\n",
        "def show():\n",
        "    print()\n",
        "    print(\"1.Party Wear\")\n",
        "    print(\"2.Casual Wear\")\n",
        "    print(\"3.Summer Wear\")\n",
        "    print(\"4.Formal dresses and Gowns\")\n",
        "    print(\"5.Exit\")\n",
        "    return int(input(\"Enter your choice [1 or 2 or 3 or 4 or 5]:\"))\n",
        "def party_wear():\n",
        "    g=gender()\n",
        "    if g==1:\n",
        "        print(\"https://www.myntra.com/party-wear-for-men\")\n",
        "    elif g==2:\n",
        "        print(\"https://www.myntra.com/women-party-wear-dresses\")\n",
        "    else:\n",
        "        return\n",
        "def casual_wear():\n",
        "    g=gender()\n",
        "    if g==1:\n",
        "        print(\"https://www.myntra.com/men-casual-wear\")\n",
        "    elif g==2:\n",
        "        print(\"https://www.faballey.com/clothing/cat/occasion-casual-wear\")\n",
        "    else:\n",
        "        return\n",
        "def summer_wear():\n",
        "    g=gender()\n",
        "    if g==1:\n",
        "        print(\"https://www.myntra.com/men-summer-wear\")\n",
        "    elif g==2:\n",
        "        print(\"https://www.myntra.com/women-summer-wear\")\n",
        "    else:\n",
        "        return\n",
        "def formal():\n",
        "    g=gender()\n",
        "    if g==1:\n",
        "        print(\"https://www.myntra.com/formal-wear-for-men\")\n",
        "    elif g==2:\n",
        "        print(\"https://www.myntra.com/formal-wear-for-women\")\n",
        "    else:\n",
        "        return\n",
        "def bot():\n",
        "    get_timeofday_greeting()\n",
        "    choice=show()\n",
        "    while True:\n",
        "        if choice==1:\n",
        "            party_wear()\n",
        "        elif choice==2:\n",
        "            casual_wear()\n",
        "        elif choice==3:\n",
        "            summer_wear()\n",
        "        elif choice==4:\n",
        "            formal()\n",
        "        elif choice==5:\n",
        "            print(\"Thank you, visit again...................\")\n",
        "            print(\"Bye.......\"+\"👋👋\")\n",
        "            print(\"Have a great day!♦️♦️♦️♦️♦️♦️♦️♦️♦️♦️♦️♦️♦️♦️♦️♦️♦️♦️♦️♦️\"+\"😍\")\n",
        "            return\n",
        "        choice=show()\n",
        "bot()\n",
        "            "
      ],
      "execution_count": 2,
      "outputs": [
        {
          "output_type": "stream",
          "text": [
            "Good Morning,  Iam Elsa, May I know your name⬛⬛⬛⬛⬛⬛⬛⬛⬛⬛⬛⬛\n",
            "Your Name: pavani\n",
            "Enter your choice [1 or 2 or 3 or 4 or 5]:4\n",
            "✨✨✨✨Hi pavani, nice to meet you. Are you looking for an outfit? Then you must try these!\n",
            "\n",
            "1.Party Wear\n",
            "2.Casual Wear\n",
            "3.Summer Wear\n",
            "4.Formal dresses and Gowns\n",
            "5.Exit\n",
            "\n",
            "1.Male\n",
            "2.Female\n",
            "Your Gender? (1 or 2) :2\n",
            "\n",
            "Here is the link, Gorgeous Women Collection Available Here!!\n",
            "https://www.myntra.com/formal-wear-for-women\n",
            "\n",
            "1.Party Wear\n",
            "2.Casual Wear\n",
            "3.Summer Wear\n",
            "4.Formal dresses and Gowns\n",
            "5.Exit\n",
            "Enter your choice [1 or 2 or 3 or 4 or 5]:5\n",
            "Thank you, visit again...................\n",
            "Bye.......👋👋\n",
            "Have a great day!♦️♦️♦️♦️♦️♦️♦️♦️♦️♦️♦️♦️♦️♦️♦️♦️♦️♦️♦️♦️😍\n"
          ],
          "name": "stdout"
        }
      ]
    },
    {
      "cell_type": "code",
      "metadata": {
        "id": "MyCq0597NLuk"
      },
      "source": [
        ""
      ],
      "execution_count": null,
      "outputs": []
    }
  ]
}